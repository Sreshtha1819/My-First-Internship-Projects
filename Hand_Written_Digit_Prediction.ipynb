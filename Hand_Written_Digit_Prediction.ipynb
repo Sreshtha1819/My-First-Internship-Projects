{
  "nbformat": 4,
  "nbformat_minor": 0,
  "metadata": {
    "colab": {
      "provenance": [],
      "authorship_tag": "ABX9TyOKxiVN3Te+Nu9k817FA0/r",
      "include_colab_link": true
    },
    "kernelspec": {
      "name": "python3",
      "display_name": "Python 3"
    },
    "language_info": {
      "name": "python"
    }
  },
  "cells": [
    {
      "cell_type": "markdown",
      "metadata": {
        "id": "view-in-github",
        "colab_type": "text"
      },
      "source": [
        "<a href=\"https://colab.research.google.com/github/Sreshtha1819/My-First-Internship-Projects/blob/main/Hand_Written_Digit_Prediction.ipynb\" target=\"_parent\"><img src=\"https://colab.research.google.com/assets/colab-badge.svg\" alt=\"Open In Colab\"/></a>"
      ]
    },
    {
      "cell_type": "markdown",
      "source": [
        "#**Hand Written Digit Predeiction -Classification Analysis**\n",
        "\n",
        "---\n",
        "\n"
      ],
      "metadata": {
        "id": "KrPeekFoIAtw"
      }
    },
    {
      "cell_type": "markdown",
      "source": [
        "##**Objective**\n",
        "\n",
        "---\n",
        "\n",
        "\n",
        "\n",
        "The digits dataset consists of 8x8 pixel images of digits. The images attribute of the dataset stores 8x8 arrays of grayscale values for each image. We will use these arrays to vuzualize the first 4 images. The target attribute of the dataset stores the digit each image represents."
      ],
      "metadata": {
        "id": "D_RmUKHVIAq3"
      }
    },
    {
      "cell_type": "markdown",
      "source": [
        "###**Import Library**"
      ],
      "metadata": {
        "id": "S6UCyC2yIAgP"
      }
    },
    {
      "cell_type": "code",
      "source": [
        "import pandas as pd"
      ],
      "metadata": {
        "id": "mdAYAhRRKmYV"
      },
      "execution_count": 52,
      "outputs": []
    },
    {
      "cell_type": "code",
      "source": [
        "import numpy as np"
      ],
      "metadata": {
        "id": "NAkIh3BgKmwH"
      },
      "execution_count": 53,
      "outputs": []
    },
    {
      "cell_type": "code",
      "source": [
        "import matplotlib.pyplot as plt"
      ],
      "metadata": {
        "id": "BKWBDKx3Kmgj"
      },
      "execution_count": 54,
      "outputs": []
    },
    {
      "cell_type": "markdown",
      "source": [
        "###**Import Data**"
      ],
      "metadata": {
        "id": "D5Spp0X4IAbB"
      }
    },
    {
      "cell_type": "code",
      "source": [
        "from sklearn.datasets import load_digits"
      ],
      "metadata": {
        "id": "G6bq_uU1K_xS"
      },
      "execution_count": 55,
      "outputs": []
    },
    {
      "cell_type": "code",
      "source": [
        "df = load_digits()"
      ],
      "metadata": {
        "id": "y2Qh8XtpLH7H"
      },
      "execution_count": 56,
      "outputs": []
    },
    {
      "cell_type": "code",
      "source": [
        "_, axes = plt.subplots(nrows=1, ncols=10, figsize=(10,3))\n",
        "for ax, image, label in zip(axes, df.images, df.target):\n",
        "  ax.set_axis_off()\n",
        "  ax.imshow(image, cmap=plt.cm.gray_r, interpolation='nearest')\n",
        "  ax.set_title(\"Training: %i\" %label)"
      ],
      "metadata": {
        "id": "Idg62_oDK_ub",
        "colab": {
          "base_uri": "https://localhost:8080/",
          "height": 125
        },
        "outputId": "cb95bd77-9106-438f-930b-46b91978db67"
      },
      "execution_count": 57,
      "outputs": [
        {
          "output_type": "display_data",
          "data": {
            "text/plain": [
              "<Figure size 1000x300 with 10 Axes>"
            ],
            "image/png": "[encoded data removed]"
          },
          "metadata": {}
        }
      ]
    },
    {
      "cell_type": "markdown",
      "source": [
        "###**Data Preprocessing**"
      ],
      "metadata": {
        "id": "0OrNFrbGIAYs"
      }
    },
    {
      "cell_type": "markdown",
      "source": [
        "#####**Flatten Image**"
      ],
      "metadata": {
        "id": "qD1HNgToIAUN"
      }
    },
    {
      "cell_type": "code",
      "source": [
        "df.images.shape"
      ],
      "metadata": {
        "colab": {
          "base_uri": "https://localhost:8080/"
        },
        "id": "spt6Zjz-O8Np",
        "outputId": "79830a36-0d61-408f-ba5b-a313320e0eb7"
      },
      "execution_count": 58,
      "outputs": [
        {
          "output_type": "execute_result",
          "data": {
            "text/plain": [
              "(1797, 8, 8)"
            ]
          },
          "metadata": {},
          "execution_count": 58
        }
      ]
    },
    {
      "cell_type": "code",
      "source": [
        "df.images[0]"
      ],
      "metadata": {
        "colab": {
          "base_uri": "https://localhost:8080/"
        },
        "id": "Fc1UjojNQkjh",
        "outputId": "06619e08-32b1-42aa-8957-199cb3b62618"
      },
      "execution_count": 59,
      "outputs": [
        {
          "output_type": "execute_result",
          "data": {
            "text/plain": [
              "array([[ 0.,  0.,  5., 13.,  9.,  1.,  0.,  0.],\n",
              "       [ 0.,  0., 13., 15., 10., 15.,  5.,  0.],\n",
              "       [ 0.,  3., 15.,  2.,  0., 11.,  8.,  0.],\n",
              "       [ 0.,  4., 12.,  0.,  0.,  8.,  8.,  0.],\n",
              "       [ 0.,  5.,  8.,  0.,  0.,  9.,  8.,  0.],\n",
              "       [ 0.,  4., 11.,  0.,  1., 12.,  7.,  0.],\n",
              "       [ 0.,  2., 14.,  5., 10., 12.,  0.,  0.],\n",
              "       [ 0.,  0.,  6., 13., 10.,  0.,  0.,  0.]])"
            ]
          },
          "metadata": {},
          "execution_count": 59
        }
      ]
    },
    {
      "cell_type": "code",
      "source": [
        "df.images[0].shape"
      ],
      "metadata": {
        "id": "VPgo4Nj1K7VY",
        "colab": {
          "base_uri": "https://localhost:8080/"
        },
        "outputId": "bea4ede2-203e-40a8-f86e-6e9b21c380d6"
      },
      "execution_count": 60,
      "outputs": [
        {
          "output_type": "execute_result",
          "data": {
            "text/plain": [
              "(8, 8)"
            ]
          },
          "metadata": {},
          "execution_count": 60
        }
      ]
    },
    {
      "cell_type": "code",
      "source": [
        "len(df.images)"
      ],
      "metadata": {
        "id": "dRIdtzP0H9yi",
        "colab": {
          "base_uri": "https://localhost:8080/"
        },
        "outputId": "9a4efb7a-00f1-43cd-deca-b4b2b1bf776d"
      },
      "execution_count": 61,
      "outputs": [
        {
          "output_type": "execute_result",
          "data": {
            "text/plain": [
              "1797"
            ]
          },
          "metadata": {},
          "execution_count": 61
        }
      ]
    },
    {
      "cell_type": "code",
      "source": [
        "n_samples = len(df.images)\n",
        "data = df.images.reshape(n_samples, -1)"
      ],
      "metadata": {
        "id": "xEbDQV35REZv"
      },
      "execution_count": 62,
      "outputs": []
    },
    {
      "cell_type": "code",
      "source": [
        "data[0]"
      ],
      "metadata": {
        "colab": {
          "base_uri": "https://localhost:8080/"
        },
        "id": "kMGs2rGiREMR",
        "outputId": "7bda7ae2-be04-4d8c-b549-2d75d9311ea0"
      },
      "execution_count": 63,
      "outputs": [
        {
          "output_type": "execute_result",
          "data": {
            "text/plain": [
              "array([ 0.,  0.,  5., 13.,  9.,  1.,  0.,  0.,  0.,  0., 13., 15., 10.,\n",
              "       15.,  5.,  0.,  0.,  3., 15.,  2.,  0., 11.,  8.,  0.,  0.,  4.,\n",
              "       12.,  0.,  0.,  8.,  8.,  0.,  0.,  5.,  8.,  0.,  0.,  9.,  8.,\n",
              "        0.,  0.,  4., 11.,  0.,  1., 12.,  7.,  0.,  0.,  2., 14.,  5.,\n",
              "       10., 12.,  0.,  0.,  0.,  0.,  6., 13., 10.,  0.,  0.,  0.])"
            ]
          },
          "metadata": {},
          "execution_count": 63
        }
      ]
    },
    {
      "cell_type": "code",
      "source": [
        "data[0].shape"
      ],
      "metadata": {
        "colab": {
          "base_uri": "https://localhost:8080/"
        },
        "id": "W-g2vN6KREAI",
        "outputId": "f255ebf8-9051-4a29-faf5-82cefaa9c243"
      },
      "execution_count": 64,
      "outputs": [
        {
          "output_type": "execute_result",
          "data": {
            "text/plain": [
              "(64,)"
            ]
          },
          "metadata": {},
          "execution_count": 64
        }
      ]
    },
    {
      "cell_type": "code",
      "source": [
        "data.shape"
      ],
      "metadata": {
        "colab": {
          "base_uri": "https://localhost:8080/"
        },
        "id": "22nLM7g8RmwT",
        "outputId": "23e32aa9-8c4e-43cf-b9b1-27f48cc499b1"
      },
      "execution_count": 65,
      "outputs": [
        {
          "output_type": "execute_result",
          "data": {
            "text/plain": [
              "(1797, 64)"
            ]
          },
          "metadata": {},
          "execution_count": 65
        }
      ]
    },
    {
      "cell_type": "markdown",
      "source": [
        "####**Scaling Image Data**"
      ],
      "metadata": {
        "id": "hAxNXybIH-aK"
      }
    },
    {
      "cell_type": "code",
      "source": [
        "data.min()"
      ],
      "metadata": {
        "colab": {
          "base_uri": "https://localhost:8080/"
        },
        "id": "J46UkuH2Rv6E",
        "outputId": "c351cba3-d6a7-4e1d-e73d-60f43160e82b"
      },
      "execution_count": 66,
      "outputs": [
        {
          "output_type": "execute_result",
          "data": {
            "text/plain": [
              "0.0"
            ]
          },
          "metadata": {},
          "execution_count": 66
        }
      ]
    },
    {
      "cell_type": "code",
      "source": [
        "data.max()"
      ],
      "metadata": {
        "colab": {
          "base_uri": "https://localhost:8080/"
        },
        "id": "3VtAzqpPRvvL",
        "outputId": "042f4c9a-eb3f-4a8c-8bef-2afbae1b678b"
      },
      "execution_count": 67,
      "outputs": [
        {
          "output_type": "execute_result",
          "data": {
            "text/plain": [
              "16.0"
            ]
          },
          "metadata": {},
          "execution_count": 67
        }
      ]
    },
    {
      "cell_type": "code",
      "source": [
        "data = data/16"
      ],
      "metadata": {
        "id": "wWXj42laRvjZ"
      },
      "execution_count": 68,
      "outputs": []
    },
    {
      "cell_type": "code",
      "source": [
        "data.min()"
      ],
      "metadata": {
        "colab": {
          "base_uri": "https://localhost:8080/"
        },
        "id": "18h3lwJuSL7K",
        "outputId": "30487435-b927-470f-b366-1d9ee0a1a10b"
      },
      "execution_count": 69,
      "outputs": [
        {
          "output_type": "execute_result",
          "data": {
            "text/plain": [
              "0.0"
            ]
          },
          "metadata": {},
          "execution_count": 69
        }
      ]
    },
    {
      "cell_type": "code",
      "source": [
        "data.max()"
      ],
      "metadata": {
        "colab": {
          "base_uri": "https://localhost:8080/"
        },
        "id": "3L0zjCfaSL2N",
        "outputId": "6a0ee86a-2841-47e2-838f-bbfae2236e03"
      },
      "execution_count": 70,
      "outputs": [
        {
          "output_type": "execute_result",
          "data": {
            "text/plain": [
              "1.0"
            ]
          },
          "metadata": {},
          "execution_count": 70
        }
      ]
    },
    {
      "cell_type": "code",
      "source": [
        "data[0]"
      ],
      "metadata": {
        "colab": {
          "base_uri": "https://localhost:8080/"
        },
        "id": "HNXfK0fRSLx-",
        "outputId": "6647befd-3f69-4873-bdbe-dfeb40bb8015"
      },
      "execution_count": 71,
      "outputs": [
        {
          "output_type": "execute_result",
          "data": {
            "text/plain": [
              "array([0.    , 0.    , 0.3125, 0.8125, 0.5625, 0.0625, 0.    , 0.    ,\n",
              "       0.    , 0.    , 0.8125, 0.9375, 0.625 , 0.9375, 0.3125, 0.    ,\n",
              "       0.    , 0.1875, 0.9375, 0.125 , 0.    , 0.6875, 0.5   , 0.    ,\n",
              "       0.    , 0.25  , 0.75  , 0.    , 0.    , 0.5   , 0.5   , 0.    ,\n",
              "       0.    , 0.3125, 0.5   , 0.    , 0.    , 0.5625, 0.5   , 0.    ,\n",
              "       0.    , 0.25  , 0.6875, 0.    , 0.0625, 0.75  , 0.4375, 0.    ,\n",
              "       0.    , 0.125 , 0.875 , 0.3125, 0.625 , 0.75  , 0.    , 0.    ,\n",
              "       0.    , 0.    , 0.375 , 0.8125, 0.625 , 0.    , 0.    , 0.    ])"
            ]
          },
          "metadata": {},
          "execution_count": 71
        }
      ]
    },
    {
      "cell_type": "markdown",
      "source": [
        "###**Train Test Split Data**"
      ],
      "metadata": {
        "id": "Ea03R0dsH-PR"
      }
    },
    {
      "cell_type": "code",
      "source": [
        "from sklearn.model_selection import train_test_split"
      ],
      "metadata": {
        "id": "QFmImSazShwg"
      },
      "execution_count": 72,
      "outputs": []
    },
    {
      "cell_type": "code",
      "source": [
        "X_train, X_test, y_train, y_test = train_test_split(data, df.target, test_size=0.3)"
      ],
      "metadata": {
        "id": "rpk9vUVAShtj"
      },
      "execution_count": 73,
      "outputs": []
    },
    {
      "cell_type": "code",
      "execution_count": 74,
      "metadata": {
        "id": "1pRb4IihHsoj",
        "colab": {
          "base_uri": "https://localhost:8080/"
        },
        "outputId": "0057f55b-4377-4252-d27c-fd780ee81aec"
      },
      "outputs": [
        {
          "output_type": "execute_result",
          "data": {
            "text/plain": [
              "((1257, 64), (540, 64), (1257,), (540,))"
            ]
          },
          "metadata": {},
          "execution_count": 74
        }
      ],
      "source": [
        "X_train.shape, X_test.shape, y_train.shape, y_test.shape"
      ]
    },
    {
      "cell_type": "markdown",
      "source": [
        "###**Modeling**"
      ],
      "metadata": {
        "id": "cWDi2oTmSixd"
      }
    },
    {
      "cell_type": "markdown",
      "source": [
        "####**Random Forest Model**"
      ],
      "metadata": {
        "id": "joeWzUwzTL5Q"
      }
    },
    {
      "cell_type": "code",
      "source": [
        "from sklearn.ensemble import RandomForestClassifier"
      ],
      "metadata": {
        "id": "3GVl_pGaSjzp"
      },
      "execution_count": 75,
      "outputs": []
    },
    {
      "cell_type": "code",
      "source": [
        "rf = RandomForestClassifier()"
      ],
      "metadata": {
        "id": "ntKYgtUJSks5"
      },
      "execution_count": 76,
      "outputs": []
    },
    {
      "cell_type": "code",
      "source": [
        "rf.fit(X_train, y_train)"
      ],
      "metadata": {
        "colab": {
          "base_uri": "https://localhost:8080/",
          "height": 75
        },
        "id": "0hvJ2TdOSkgj",
        "outputId": "8ee6e542-0601-42fd-de79-3758390a2ce8"
      },
      "execution_count": 77,
      "outputs": [
        {
          "output_type": "execute_result",
          "data": {
            "text/plain": [
              "RandomForestClassifier()"
            ],
            "text/html": [
              "<style>#sk-container-id-2 {color: black;background-color: white;}#sk-container-id-2 pre{padding: 0;}#sk-container-id-2 div.sk-toggleable {background-color: white;}#sk-container-id-2 label.sk-toggleable__label {cursor: pointer;display: block;width: 100%;margin-bottom: 0;padding: 0.3em;box-sizing: border-box;text-align: center;}#sk-container-id-2 label.sk-toggleable__label-arrow:before {content: \"▸\";float: left;margin-right: 0.25em;color: #696969;}#sk-container-id-2 label.sk-toggleable__label-arrow:hover:before {color: black;}#sk-container-id-2 div.sk-estimator:hover label.sk-toggleable__label-arrow:before {color: black;}#sk-container-id-2 div.sk-toggleable__content {max-height: 0;max-width: 0;overflow: hidden;text-align: left;background-color: #f0f8ff;}#sk-container-id-2 div.sk-toggleable__content pre {margin: 0.2em;color: black;border-radius: 0.25em;background-color: #f0f8ff;}#sk-container-id-2 input.sk-toggleable__control:checked~div.sk-toggleable__content {max-height: 200px;max-width: 100%;overflow: auto;}#sk-container-id-2 input.sk-toggleable__control:checked~label.sk-toggleable__label-arrow:before {content: \"▾\";}#sk-container-id-2 div.sk-estimator input.sk-toggleable__control:checked~label.sk-toggleable__label {background-color: #d4ebff;}#sk-container-id-2 div.sk-label input.sk-toggleable__control:checked~label.sk-toggleable__label {background-color: #d4ebff;}#sk-container-id-2 input.sk-hidden--visually {border: 0;clip: rect(1px 1px 1px 1px);clip: rect(1px, 1px, 1px, 1px);height: 1px;margin: -1px;overflow: hidden;padding: 0;position: absolute;width: 1px;}#sk-container-id-2 div.sk-estimator {font-family: monospace;background-color: #f0f8ff;border: 1px dotted black;border-radius: 0.25em;box-sizing: border-box;margin-bottom: 0.5em;}#sk-container-id-2 div.sk-estimator:hover {background-color: #d4ebff;}#sk-container-id-2 div.sk-parallel-item::after {content: \"\";width: 100%;border-bottom: 1px solid gray;flex-grow: 1;}#sk-container-id-2 div.sk-label:hover label.sk-toggleable__label {background-color: #d4ebff;}#sk-container-id-2 div.sk-serial::before {content: \"\";position: absolute;border-left: 1px solid gray;box-sizing: border-box;top: 0;bottom: 0;left: 50%;z-index: 0;}#sk-container-id-2 div.sk-serial {display: flex;flex-direction: column;align-items: center;background-color: white;padding-right: 0.2em;padding-left: 0.2em;position: relative;}#sk-container-id-2 div.sk-item {position: relative;z-index: 1;}#sk-container-id-2 div.sk-parallel {display: flex;align-items: stretch;justify-content: center;background-color: white;position: relative;}#sk-container-id-2 div.sk-item::before, #sk-container-id-2 div.sk-parallel-item::before {content: \"\";position: absolute;border-left: 1px solid gray;box-sizing: border-box;top: 0;bottom: 0;left: 50%;z-index: -1;}#sk-container-id-2 div.sk-parallel-item {display: flex;flex-direction: column;z-index: 1;position: relative;background-color: white;}#sk-container-id-2 div.sk-parallel-item:first-child::after {align-self: flex-end;width: 50%;}#sk-container-id-2 div.sk-parallel-item:last-child::after {align-self: flex-start;width: 50%;}#sk-container-id-2 div.sk-parallel-item:only-child::after {width: 0;}#sk-container-id-2 div.sk-dashed-wrapped {border: 1px dashed gray;margin: 0 0.4em 0.5em 0.4em;box-sizing: border-box;padding-bottom: 0.4em;background-color: white;}#sk-container-id-2 div.sk-label label {font-family: monospace;font-weight: bold;display: inline-block;line-height: 1.2em;}#sk-container-id-2 div.sk-label-container {text-align: center;}#sk-container-id-2 div.sk-container {/* jupyter's `normalize.less` sets `[hidden] { display: none; }` but bootstrap.min.css set `[hidden] { display: none !important; }` so we also need the `!important` here to be able to override the default hidden behavior on the sphinx rendered scikit-learn.org. See: https://github.com/scikit-learn/scikit-learn/issues/21755 */display: inline-block !important;position: relative;}#sk-container-id-2 div.sk-text-repr-fallback {display: none;}</style><div id=\"sk-container-id-2\" class=\"sk-top-container\"><div class=\"sk-text-repr-fallback\"><pre>RandomForestClassifier()</pre><b>In a Jupyter environment, please rerun this cell to show the HTML representation or trust the notebook. <br />On GitHub, the HTML representation is unable to render, please try loading this page with nbviewer.org.</b></div><div class=\"sk-container\" hidden><div class=\"sk-item\"><div class=\"sk-estimator sk-toggleable\"><input class=\"sk-toggleable__control sk-hidden--visually\" id=\"sk-estimator-id-2\" type=\"checkbox\" checked><label for=\"sk-estimator-id-2\" class=\"sk-toggleable__label sk-toggleable__label-arrow\">RandomForestClassifier</label><div class=\"sk-toggleable__content\"><pre>RandomForestClassifier()</pre></div></div></div></div></div>"
            ]
          },
          "metadata": {},
          "execution_count": 77
        }
      ]
    },
    {
      "cell_type": "markdown",
      "source": [
        "###**Predict Test Data**"
      ],
      "metadata": {
        "id": "18vp2Tj4ToRB"
      }
    },
    {
      "cell_type": "code",
      "source": [
        "y_pred = rf.predict(X_test)"
      ],
      "metadata": {
        "id": "HB--Fd3gTou3"
      },
      "execution_count": 78,
      "outputs": []
    },
    {
      "cell_type": "code",
      "source": [
        "y_pred"
      ],
      "metadata": {
        "colab": {
          "base_uri": "https://localhost:8080/"
        },
        "id": "2rb4XRG9TpAa",
        "outputId": "c7e1ccf4-3273-4098-f911-a8d12e588b94"
      },
      "execution_count": 79,
      "outputs": [
        {
          "output_type": "execute_result",
          "data": {
            "text/plain": [
              "array([5, 0, 7, 2, 2, 3, 0, 2, 7, 8, 1, 9, 0, 3, 7, 0, 6, 7, 3, 6, 7, 2,\n",
              "       5, 0, 8, 5, 3, 8, 4, 8, 0, 8, 2, 4, 9, 2, 2, 0, 4, 5, 4, 4, 0, 4,\n",
              "       6, 4, 8, 2, 1, 1, 8, 0, 6, 6, 5, 5, 9, 2, 2, 0, 7, 5, 2, 8, 7, 7,\n",
              "       8, 2, 9, 9, 7, 2, 4, 0, 3, 4, 0, 0, 3, 9, 4, 8, 8, 8, 1, 7, 5, 5,\n",
              "       7, 0, 5, 7, 9, 8, 8, 4, 0, 3, 2, 5, 6, 6, 0, 0, 7, 2, 2, 5, 6, 1,\n",
              "       2, 5, 2, 2, 9, 9, 7, 3, 1, 6, 2, 7, 4, 0, 5, 4, 3, 4, 2, 5, 9, 4,\n",
              "       8, 3, 9, 6, 5, 7, 2, 6, 8, 9, 9, 1, 5, 8, 3, 6, 4, 2, 7, 1, 2, 5,\n",
              "       7, 5, 4, 1, 0, 7, 0, 0, 6, 7, 6, 0, 0, 4, 9, 0, 1, 3, 1, 8, 5, 5,\n",
              "       1, 5, 1, 2, 0, 9, 9, 8, 4, 0, 1, 4, 8, 3, 1, 7, 8, 2, 5, 4, 8, 6,\n",
              "       6, 4, 0, 2, 5, 1, 7, 5, 6, 4, 3, 4, 8, 7, 2, 5, 5, 2, 4, 3, 5, 2,\n",
              "       4, 7, 0, 1, 7, 8, 3, 0, 8, 9, 1, 0, 4, 1, 4, 8, 3, 8, 3, 7, 3, 3,\n",
              "       8, 1, 6, 1, 1, 2, 4, 0, 4, 4, 3, 5, 2, 4, 7, 1, 8, 5, 1, 6, 7, 2,\n",
              "       0, 4, 8, 3, 6, 5, 1, 3, 9, 7, 3, 1, 5, 3, 0, 6, 5, 2, 8, 1, 1, 3,\n",
              "       1, 6, 9, 4, 3, 1, 4, 2, 8, 6, 8, 1, 3, 9, 6, 3, 4, 5, 3, 3, 1, 2,\n",
              "       3, 1, 6, 8, 7, 4, 3, 6, 6, 7, 8, 6, 3, 5, 7, 1, 8, 6, 9, 0, 7, 3,\n",
              "       2, 6, 9, 8, 4, 5, 0, 5, 2, 7, 2, 0, 0, 0, 3, 3, 7, 7, 9, 1, 7, 5,\n",
              "       2, 4, 9, 7, 7, 9, 1, 7, 0, 7, 3, 3, 9, 9, 7, 5, 3, 8, 2, 4, 8, 6,\n",
              "       8, 1, 0, 5, 5, 5, 4, 8, 6, 9, 2, 1, 0, 3, 7, 9, 2, 2, 1, 0, 2, 3,\n",
              "       2, 5, 4, 9, 6, 2, 8, 7, 0, 9, 1, 4, 4, 9, 7, 2, 2, 3, 8, 3, 8, 4,\n",
              "       4, 7, 3, 8, 0, 2, 9, 1, 4, 7, 8, 1, 5, 1, 7, 9, 1, 8, 9, 1, 0, 9,\n",
              "       5, 9, 0, 1, 0, 5, 3, 4, 1, 2, 4, 4, 6, 1, 6, 8, 0, 1, 2, 4, 8, 3,\n",
              "       8, 6, 9, 2, 0, 5, 1, 8, 7, 4, 1, 2, 7, 4, 7, 3, 5, 4, 6, 3, 3, 7,\n",
              "       1, 1, 1, 2, 5, 9, 9, 1, 8, 9, 0, 3, 7, 7, 1, 1, 5, 2, 3, 9, 5, 8,\n",
              "       9, 2, 7, 2, 4, 5, 9, 6, 0, 6, 5, 4, 8, 8, 9, 8, 8, 6, 0, 2, 7, 3,\n",
              "       5, 0, 0, 2, 2, 6, 4, 4, 8, 7, 3, 2])"
            ]
          },
          "metadata": {},
          "execution_count": 79
        }
      ]
    },
    {
      "cell_type": "markdown",
      "source": [
        "###**Model Evaluation**"
      ],
      "metadata": {
        "id": "iYHbaXjWUHIQ"
      }
    },
    {
      "cell_type": "code",
      "source": [
        "from sklearn.metrics import confusion_matrix, classification_report"
      ],
      "metadata": {
        "id": "C6ZxfdCOUG1F"
      },
      "execution_count": 80,
      "outputs": []
    },
    {
      "cell_type": "code",
      "source": [
        "confusion_matrix(y_test, y_pred)"
      ],
      "metadata": {
        "colab": {
          "base_uri": "https://localhost:8080/"
        },
        "id": "fKFZCyZtUGqA",
        "outputId": "e4e0abeb-1cbe-4182-978d-4b9bbd791ca1"
      },
      "execution_count": 81,
      "outputs": [
        {
          "output_type": "execute_result",
          "data": {
            "text/plain": [
              "array([[52,  0,  0,  0,  0,  0,  0,  0,  0,  0],\n",
              "       [ 0, 56,  0,  0,  0,  0,  0,  0,  0,  0],\n",
              "       [ 1,  0, 60,  0,  0,  0,  0,  0,  0,  0],\n",
              "       [ 0,  0,  0, 54,  0,  2,  0,  1,  1,  0],\n",
              "       [ 0,  0,  0,  0, 58,  0,  0,  1,  0,  0],\n",
              "       [ 0,  0,  0,  0,  0, 50,  0,  0,  0,  0],\n",
              "       [ 1,  0,  0,  0,  0,  0, 41,  0,  0,  0],\n",
              "       [ 0,  0,  0,  0,  0,  0,  0, 54,  0,  0],\n",
              "       [ 0,  1,  2,  0,  0,  1,  0,  1, 55,  0],\n",
              "       [ 0,  0,  0,  0,  0,  1,  0,  0,  2, 45]])"
            ]
          },
          "metadata": {},
          "execution_count": 81
        }
      ]
    },
    {
      "cell_type": "code",
      "source": [
        "print(classification_report(y_test, y_pred))"
      ],
      "metadata": {
        "colab": {
          "base_uri": "https://localhost:8080/"
        },
        "id": "p2SgkCn3UGX4",
        "outputId": "7e07a3a6-3911-4581-c950-a19168378cbd"
      },
      "execution_count": 82,
      "outputs": [
        {
          "output_type": "stream",
          "name": "stdout",
          "text": [
            "              precision    recall  f1-score   support\n",
            "\n",
            "           0       0.96      1.00      0.98        52\n",
            "           1       0.98      1.00      0.99        56\n",
            "           2       0.97      0.98      0.98        61\n",
            "           3       1.00      0.93      0.96        58\n",
            "           4       1.00      0.98      0.99        59\n",
            "           5       0.93      1.00      0.96        50\n",
            "           6       1.00      0.98      0.99        42\n",
            "           7       0.95      1.00      0.97        54\n",
            "           8       0.95      0.92      0.93        60\n",
            "           9       1.00      0.94      0.97        48\n",
            "\n",
            "    accuracy                           0.97       540\n",
            "   macro avg       0.97      0.97      0.97       540\n",
            "weighted avg       0.97      0.97      0.97       540\n",
            "\n"
          ]
        }
      ]
    },
    {
      "cell_type": "markdown",
      "source": [
        "##**Exlanation**\n",
        "\n",
        "---\n",
        "\n",
        "This is the model based on predicting the digits that are hand written.\n"
      ],
      "metadata": {
        "id": "zu_4J_3UVOC_"
      }
    }
  ]
}